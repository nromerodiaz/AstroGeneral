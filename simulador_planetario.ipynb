{
 "metadata": {
  "name": "",
  "signature": "sha256:eed8ecc4b0489c9e54b870d09aae7d347f3c05c6e0e8f85353bea7408be54a8e"
 },
 "nbformat": 3,
 "nbformat_minor": 0,
 "worksheets": [
  {
   "cells": [
    {
     "cell_type": "heading",
     "level": 1,
     "metadata": {},
     "source": [
      "Astronom\u00eda general: proyecto final"
     ]
    },
    {
     "cell_type": "heading",
     "level": 1,
     "metadata": {},
     "source": [
      "Simulador planetario"
     ]
    },
    {
     "cell_type": "heading",
     "level": 2,
     "metadata": {},
     "source": [
      "Nicol\u00e1s Romero D\u00edaz"
     ]
    },
    {
     "cell_type": "heading",
     "level": 3,
     "metadata": {},
     "source": [
      "201127499"
     ]
    },
    {
     "cell_type": "markdown",
     "metadata": {},
     "source": [
      "Como proyecto final para la clase de astronom\u00eda general, presento un *notebook* de python que nos permite calcular la posici\u00f3n helioc\u00e9ntrica de los planetas de nuestro sistema solar para cualquier fecha haciendo uso de los m\u00e9todos y aproximaciones vistas en clase durante el primer semestre de 2016. Se detallar\u00e1n minuciosamente los pasos de c\u00e1lculo y el prop\u00f3sito de los pasos seguidos para obtener los resultados, distiguiendo entre dos m\u00e9todos distintos que debemos aplicar al considerar una \u00f3rbita con excentricidad considerable o una \u00f3rbita m\u00e1s bien circular."
     ]
    },
    {
     "cell_type": "heading",
     "level": 5,
     "metadata": {},
     "source": [
      "Paso 1"
     ]
    },
    {
     "cell_type": "markdown",
     "metadata": {},
     "source": [
      "Comenzamos importando las librer\u00edas pertinentes. Las librer\u00edas de numpy y math nos permiten hacer uso de funciones trigonom\u00e9tricas y de otras herramientas matem\u00e1ticas dentro de nuestro c\u00f3digo, mientras que el pylab inline nos permite visualizar las im\u00e1genes (generadas por matplotlib) dentro de nuestro *notebook*, eliminando la necesidad de tener un archivo por separado."
     ]
    },
    {
     "cell_type": "code",
     "collapsed": false,
     "input": [
      "import numpy as np\n",
      "import matplotlib.pyplot as plt\n",
      "import math\n",
      "\n",
      "%pylab inline"
     ],
     "language": "python",
     "metadata": {},
     "outputs": [
      {
       "output_type": "stream",
       "stream": "stdout",
       "text": [
        "Populating the interactive namespace from numpy and matplotlib\n"
       ]
      }
     ],
     "prompt_number": 1
    },
    {
     "cell_type": "heading",
     "level": 5,
     "metadata": {},
     "source": [
      "Paso 2"
     ]
    },
    {
     "cell_type": "markdown",
     "metadata": {},
     "source": [
      "Comenzamos ahora definiendo una funci\u00f3n que nos permite calcular la posici\u00f3n de los planetas cuya \u00f3rbita tiene una excentricidad despreciable, haciendo uso de los elementos orbitales disponibles en **[1]**\n",
      "\n",
      "Usando la tercera ley de Kepler, podemos obtener el periodo de la \u00f3rbita a partir de la longitud del semieje mayor de la elipse. Luego, teniendo un punto de referencia de la posici\u00f3n de nuestro planeta en una fecha conocida, podemos calular cu\u00e1nto se ha movido (en grados) hasta alguna fecha arbitraria. Con estos datos podemos traducir esta rotaci\u00f3n a posiciones en el plano $x$ $y$ a partir de las f\u00f3rmulas:"
     ]
    },
    {
     "cell_type": "markdown",
     "metadata": {},
     "source": [
      "$$\\Delta \\lambda = \\left( \\frac{t}{T} \\right) \\cdot 360^{\\circ}$$ $$x_{planeta} = a \\cos(\\lambda)$$ $$y_{planeta} = a \\sin(\\lambda)$$"
     ]
    },
    {
     "cell_type": "markdown",
     "metadata": {},
     "source": [
      "Tambi\u00e9n debemos considerar la inclinaci\u00f3n de la \u00f3rbita. Esta la podemos calcular utilizando:"
     ]
    },
    {
     "cell_type": "markdown",
     "metadata": {},
     "source": [
      "$$\\beta = i \\cdot \\sin(\\lambda - \\Omega)$$"
     ]
    },
    {
     "cell_type": "markdown",
     "metadata": {},
     "source": [
      "Una vez terminados estos c\u00e1lculos, la funci\u00f3n procede a guardar los resultados en un arreglo unidimensional de resultados conteniendo la posici\u00f3n en $x$, $y$, $\\lambda_{actual}$ y $\\beta$"
     ]
    },
    {
     "cell_type": "code",
     "collapsed": false,
     "input": [
      "# Funcion que calcula la posicion para una orbita con e -> 0\n",
      "\n",
      "def pos_planeta_circular(a, i, Omega, lambda_inicial, fecha_inicial, fecha_actual):\n",
      "    \n",
      "    #Periodo de la orbita en a\u00f1os\n",
      "    T = a**1.5\n",
      "    \n",
      "    #Diferencia de tiempo en a\u00f1os\n",
      "    delta_t = (fecha_actual - fecha_inicial)/365.25\n",
      "    \n",
      "    #Cuanto se movio el planeta en grados, descartando vueltas enteras al tomar modulo 1 de delta_t/T\n",
      "    delta_lam = ((delta_t/T)%1)*360\n",
      "    \n",
      "    #Posicion actual\n",
      "    lambda_actual = delta_lam + lambda_inicial\n",
      "    \n",
      "    #Restamos vueltas completas\n",
      "    if(lambda_actual > 360):\n",
      "        n_vueltas = 360*int(lambda_actual/360)\n",
      "        lambda_actual -= n_vueltas\n",
      "        \n",
      "    #Sacamos las coordenadas en x y en y\n",
      "    x_planeta = a*np.cos((lambda_actual*np.pi)/180)\n",
      "    y_planeta = a*np.sin((lambda_actual*np.pi)/180)\n",
      "    \n",
      "    #Calculamos el beta\n",
      "    beta = i*np.sin((lambda_actual-Omega)*np.pi/180)\n",
      "    \n",
      "    #Guardamos los datos en un arreglo unidimensional\n",
      "    p_planeta_c = [x_planeta, y_planeta, lambda_actual, beta]\n",
      "    p_planeta_c = np.array(p_planeta_c)\n",
      "        \n",
      "    return p_planeta_c"
     ],
     "language": "python",
     "metadata": {},
     "outputs": [],
     "prompt_number": 2
    },
    {
     "cell_type": "heading",
     "level": 5,
     "metadata": {},
     "source": [
      "Paso 2.1"
     ]
    },
    {
     "cell_type": "markdown",
     "metadata": {},
     "source": [
      "Ahora, desarrollamos el c\u00e1lculo para los planetas que tienen \u00f3rbitas con excentricidad considerable. En este caso, usamos la ecuaci\u00f3n de Kepler aproximada ya que el objetivo del proyecto era el de poder predecir la posici\u00f3n de un planeta dado como par\u00e1metro una fecha arbitraria. Por esta raz\u00f3n, debemos iterar la ecuaci\u00f3n de Kepler hasta encontrar una anomal\u00eda $E$ que no var\u00ede significativamente despu\u00e9s de cierto n\u00famero de repeticiones, i.e. $$E_1 = M + \\varepsilon \\sin(M)$$ $$E_2 = M + \\varepsilon \\sin(E_1)$$ $$E_3 = M + \\varepsilon \\sin(E_2)$$ $$\\vdots$$"
     ]
    },
    {
     "cell_type": "markdown",
     "metadata": {},
     "source": [
      "Luego, obtenemos los valores de $\\phi$ y $r$ a partir de las ecuaciones: \n",
      "$$\\tan(^\\phi/_2)=\\sqrt{\\frac{1+\\varepsilon}{1-\\varepsilon}}\\tan(^E/_2)$$ \\\\\n",
      "$$\\frac{r}{a}=\\frac{1-\\varepsilon^2}{1+\\varepsilon \\cos(\\phi)}$$\n",
      "Finalmente, guardamos los resultados en un arreglo unidimensional."
     ]
    },
    {
     "cell_type": "code",
     "collapsed": false,
     "input": [
      "def pos_planeta_e(a, e, i, Omega, fecha_inicial, fecha_actual):\n",
      "\n",
      "    #Periodo de la orbita en a\u00f1os\n",
      "    T = a**1.5\n",
      "    \n",
      "    #Diferencia de tiempo en a\u00f1os\n",
      "    t = (fecha_inicial-fecha_actual)/365.25\n",
      "    \n",
      "    #Anomalia media\n",
      "    M = (2*np.pi*t)/T\n",
      "    \n",
      "    #Para encontrar E, debemos iterar la ecuacion de Kepler hasta que converga a un valor\n",
      "    E1 = M + e*np.sin(M*np.pi/180)\n",
      "    \n",
      "    #Inicializamos una lista donde guardaremos los valores de E y un contador que nos determinara cuando detenernos en nuestra\n",
      "    #iteracion\n",
      "    E_list = [E1]\n",
      "    j = 0\n",
      "    \n",
      "    #Comenzamos el ciclo de iteracion\n",
      "    while j < int(500):\n",
      "        E_iterativo = M + e*np.sin(E_list[j]*np.pi/180)\n",
      "        E_list.append(E_iterativo)\n",
      "        j += 1\n",
      "        \n",
      "    #Escogemos el ultimo valor de nuestra lista y computamos phi y r\n",
      "    E = E_list[-1]\n",
      "    phi = 2*math.atan(np.sqrt(abs(np.tan(E/2))*(1+e)/(1-e)))\n",
      "    r = a*( (1-e**2)/(1+e*np.cos(phi)) )\n",
      "    \n",
      "    #Guardamos los reasultados en un arreglo unidimensional\n",
      "    p_planeta_e = [r, phi, M, E]\n",
      "    p_planeta_e = np.array(p_planeta_e)\n",
      "    \n",
      "    return p_planeta_e"
     ],
     "language": "python",
     "metadata": {},
     "outputs": [],
     "prompt_number": 3
    },
    {
     "cell_type": "heading",
     "level": 5,
     "metadata": {},
     "source": [
      "Paso 3"
     ]
    },
    {
     "cell_type": "markdown",
     "metadata": {},
     "source": [
      "Ahora, haremos una funci\u00f3n que nos permita visualizar los resultados. Debido a la diferente naturaleza de los m\u00e9todos utilizados para obtener nuestros resultados, debemos utilizar dos funciones para poder graficar los planetas. La primera de ellas, aplicada a los planetas con baja excentricidad, simplemente estudia el arreglo de resultados y usa las posiciones en $x$ y $y$ para poner un c\u00edrculo en la posici\u00f3n donde est\u00e1 el planeta, como se muestra a continuaci\u00f3n:"
     ]
    },
    {
     "cell_type": "code",
     "collapsed": false,
     "input": [
      "def graficar_posicion(x, y, a):\n",
      "    \n",
      "    #Inicializamos nuestra figura\n",
      "    fig = plt.figure()\n",
      "    ax = fig.add_subplot(111)\n",
      "    \n",
      "    plt.axes()\n",
      "    \n",
      "    #Ponemos el sol en el origen\n",
      "    sol = plt.Circle((0, 0), radius=0.075*a, fc='y')\n",
      "    ax.add_patch(sol)\n",
      "    \n",
      "    #Creamos la figura del planeta\n",
      "    planeta = plt.Circle((x,y), radius = 0.05*a, fc='b')\n",
      "    ax.add_patch(planeta)\n",
      "\n",
      "    plt.axis('scaled')\n",
      "    \n",
      "    #Fijamos los limites de nuestra grafica\n",
      "    ax.set_xlim(-a-1, a+1)\n",
      "    ax.set_ylim(-a-1, a+1)\n",
      "    plt.show()"
     ],
     "language": "python",
     "metadata": {},
     "outputs": [],
     "prompt_number": 4
    },
    {
     "cell_type": "markdown",
     "metadata": {},
     "source": [
      "Para los planetas que presentan \u00f3rbitas el\u00edpticas, hacemos uso de los valores de $r$ y $\\phi$ para obtener las coordenadas $x$ y $y$  y repetimos el proceso de la funci\u00f3n anterior.\n",
      "Para facilitar la visualizaci\u00f3n de la posici\u00f3n del planeta, se incluy\u00f3 una figura para representar al sol, colocada en el origen de nuestra gr\u00e1fica."
     ]
    },
    {
     "cell_type": "code",
     "collapsed": false,
     "input": [
      "def graficar_posicion_polar(r, phi, a):\n",
      "    \n",
      "    #Convertimos nuestro r y phi a x & y\n",
      "    x = r*np.cos(phi)\n",
      "    y = r*np.sin(phi)\n",
      "    \n",
      "    #Inicializamos nuestra figura\n",
      "    fig = plt.figure()\n",
      "    ax = fig.add_subplot(111)\n",
      "\n",
      "    plt.axes()\n",
      "    \n",
      "    #Ponemos el sol en el origen\n",
      "    sol = plt.Circle((0, 0), radius=0.25*a, fc='y')\n",
      "    ax.add_patch(sol)\n",
      "    \n",
      "    #Creamos la figura del planeta\n",
      "    planeta = plt.Circle((x,y), radius = 0.1*a, fc='b')\n",
      "    ax.add_patch(planeta)\n",
      "\n",
      "    plt.axis('scaled')\n",
      "    \n",
      "    #Fijamos los limites de nuestra grafica\n",
      "    ax.set_xlim(-a-0.5, a+0.5)\n",
      "    ax.set_ylim(-a-0.5, a+0.5)\n",
      "    plt.show()"
     ],
     "language": "python",
     "metadata": {},
     "outputs": [],
     "prompt_number": 5
    },
    {
     "cell_type": "heading",
     "level": 5,
     "metadata": {},
     "source": [
      "Paso 4"
     ]
    },
    {
     "cell_type": "markdown",
     "metadata": {},
     "source": [
      "Finalmente, definimos arreglos para cada uno de los planetas donde guardamos sus elementos orbitales y una fecha en d\u00eda juliano cuando el planeta correspondiente est\u00e1 en el perihelio. Estas fechas fueron encontradas en **[2]** y se convirtieron a d\u00edas julianos en **[3]**. Ahora, simplemente falta aplicar las funciones definidas en la parte inicial del *notebook* a cada conjunto de datos. En este caso, ya que el objetivo es demostrar la capacidad de c\u00e1lculo de este proyecto dada una fecha arbitraria, se escogi\u00f3 como fecha final el d\u00eda juliano $2500000$, que corresponde al 31 de agosto del 2132. Esta fecha puede ser cambiada en las siguientes cajas de c\u00f3digo, al aplicar la funci\u00f3n de c\u00e1lculo de la posici\u00f3n."
     ]
    },
    {
     "cell_type": "code",
     "collapsed": false,
     "input": [
      "# Inicializamos los arreglos que contienen los elementos orbitales de los planetas\n",
      "# a, e, i, Omega, fecha_perihelio, \n",
      "Mercurio = [0.38709893 , 0.20563069, 7.00487,  48.33167, 2450007.43791]\n",
      "Venus    = [0.72333199 , 0.00677323, 3.39471,  76.68069, 2449938.43791]\n",
      "Tierra   = [1.00000011 , 0.01671022, 0.00005, -11.26064, 2450064.43791]\n",
      "Marte    = [1.52366231 , 0.09341233, 1.85061,  49.57854, 2450133.43791]\n",
      "Jupiter  = [5.20336301 , 0.04839266, 1.30530, 100.55615, 2451304.43791]\n",
      "Saturno  = [9.53707032 , 0.05415060, 2.48446, 113.71504, 2452786.43791]\n",
      "Urano    = [19.19126393, 0.04716771, 0.76986,  74.22988, 2469867.43791]\n",
      "Neptuno  = [30.06896348, 0.00858587, 1.76917, 131.72169, 2462562.43791]\n",
      "\n",
      "Mercurio = np.array(Mercurio)\n",
      "Venus    = np.array(Venus)\n",
      "Tierra   = np.array(Tierra)\n",
      "Marte    = np.array(Marte)\n",
      "Jupiter  = np.array(Jupiter)\n",
      "Saturno  = np.array(Saturno)\n",
      "Urano    = np.array(Urano)\n",
      "Neptuno  = np.array(Neptuno)"
     ],
     "language": "python",
     "metadata": {},
     "outputs": [],
     "prompt_number": 6
    },
    {
     "cell_type": "heading",
     "level": 1,
     "metadata": {},
     "source": [
      "Mercurio"
     ]
    },
    {
     "cell_type": "markdown",
     "metadata": {},
     "source": [
      "**NOTA-** La \u00f3rbita de mercurio presenta un fen\u00f3meno de precesi\u00f3n que **no** se tiene en cuenta en este c\u00e1lculo. Sin embargo, el objetivo del proyecto tambi\u00e9n es el de aplicar los m\u00e9todos vistos en clase, por lo cual se decidi\u00f3 aplicar este m\u00e9todo a este planeta a pesar de que sea err\u00f3neo."
     ]
    },
    {
     "cell_type": "code",
     "collapsed": false,
     "input": [
      "#Aplicamos la funcion para planetas con orbitas elipticas\n",
      "mer = pos_planeta_e(Mercurio[0], Mercurio[1], Mercurio[2], Mercurio[3], Mercurio[4], 2500000)\n",
      "\n",
      "#Graficamos los resultados\n",
      "graficar_posicion_polar(mer[0], mer[1], Mercurio[0])"
     ],
     "language": "python",
     "metadata": {},
     "outputs": [
      {
       "metadata": {},
       "output_type": "display_data",
       "png": "[encoded data removed]",
       "text": [
        "<matplotlib.figure.Figure at 0x3d018d0>"
       ]
      }
     ],
     "prompt_number": 7
    },
    {
     "cell_type": "heading",
     "level": 1,
     "metadata": {},
     "source": [
      "Venus"
     ]
    },
    {
     "cell_type": "code",
     "collapsed": false,
     "input": [
      "#Aplicamos la funcion para planetas con orbitas circulares\n",
      "ven = pos_planeta_circular(Venus[0], Venus[1], Venus[2], Venus[3], Venus[4], 2500000)\n",
      "\n",
      "#Graficamos los resultados\n",
      "graficar_posicion(ven[0], ven[1], Venus[0])"
     ],
     "language": "python",
     "metadata": {},
     "outputs": [
      {
       "metadata": {},
       "output_type": "display_data",
       "png": "[encoded data removed]",
       "text": [
        "<matplotlib.figure.Figure at 0x3d2dd50>"
       ]
      }
     ],
     "prompt_number": 8
    },
    {
     "cell_type": "heading",
     "level": 1,
     "metadata": {},
     "source": [
      "Marte"
     ]
    },
    {
     "cell_type": "code",
     "collapsed": false,
     "input": [
      "#Aplicamos la funcion para planetas con orbitas elipticas\n",
      "mar = pos_planeta_e(Marte[0], Marte[1], Marte[2], Marte[3], Marte[4], 2500000)\n",
      "\n",
      "#Graficamos los resultados\n",
      "graficar_posicion_polar(mar[0], mar[1], Marte[0])"
     ],
     "language": "python",
     "metadata": {},
     "outputs": [
      {
       "metadata": {},
       "output_type": "display_data",
       "png": "[encoded data removed]",
       "text": [
        "<matplotlib.figure.Figure at 0x3d0a950>"
       ]
      }
     ],
     "prompt_number": 9
    },
    {
     "cell_type": "heading",
     "level": 1,
     "metadata": {},
     "source": [
      "J\u00fapiter"
     ]
    },
    {
     "cell_type": "code",
     "collapsed": false,
     "input": [
      "#Aplicamos la funcion para planetas con orbitas circulares\n",
      "jup = pos_planeta_circular(Jupiter[0], Jupiter[1], Jupiter[2], Jupiter[3], Jupiter[4], 2500000)\n",
      "\n",
      "#Graficamos los resultados\n",
      "graficar_posicion(jup[0], jup[1], Jupiter[0])"
     ],
     "language": "python",
     "metadata": {},
     "outputs": [
      {
       "metadata": {},
       "output_type": "display_data",
       "png": "[encoded data removed]",
       "text": [
        "<matplotlib.figure.Figure at 0x3d01390>"
       ]
      }
     ],
     "prompt_number": 10
    },
    {
     "cell_type": "heading",
     "level": 1,
     "metadata": {},
     "source": [
      "Saturno"
     ]
    },
    {
     "cell_type": "code",
     "collapsed": false,
     "input": [
      "#Aplicamos la funcion para planetas con orbitas circulares\n",
      "sat = pos_planeta_circular(Saturno[0], Saturno[1], Saturno[2], Saturno[3], Saturno[4], 2500000)\n",
      "\n",
      "#Graficamos los resultados\n",
      "graficar_posicion(sat[0], sat[1], Saturno[0])"
     ],
     "language": "python",
     "metadata": {},
     "outputs": [
      {
       "metadata": {},
       "output_type": "display_data",
       "png": "[encoded data removed]",
       "text": [
        "<matplotlib.figure.Figure at 0x3d0af10>"
       ]
      }
     ],
     "prompt_number": 11
    },
    {
     "cell_type": "heading",
     "level": 1,
     "metadata": {},
     "source": [
      "Urano"
     ]
    },
    {
     "cell_type": "code",
     "collapsed": false,
     "input": [
      "#Aplicamos la funcion para planetas con orbitas circulares\n",
      "ura = pos_planeta_circular(Urano[0], Urano[1], Urano[2], Urano[3], Urano[4], 2500000)\n",
      "\n",
      "#Graficamos los resultados\n",
      "graficar_posicion(ura[0], ura[1], Urano[0])"
     ],
     "language": "python",
     "metadata": {},
     "outputs": [
      {
       "metadata": {},
       "output_type": "display_data",
       "png": "[encoded data removed]",
       "text": [
        "<matplotlib.figure.Figure at 0x3d01510>"
       ]
      }
     ],
     "prompt_number": 12
    },
    {
     "cell_type": "heading",
     "level": 1,
     "metadata": {},
     "source": [
      "Neptuno"
     ]
    },
    {
     "cell_type": "code",
     "collapsed": false,
     "input": [
      "#Aplicamos la funcion para planetas con orbitas circulares\n",
      "nep = pos_planeta_circular(Neptuno[0], Neptuno[1], Neptuno[2], Neptuno[3], Neptuno[4], 2500000)\n",
      "\n",
      "#Graficamos los resultados\n",
      "graficar_posicion(nep[0], nep[1], Neptuno[0])"
     ],
     "language": "python",
     "metadata": {},
     "outputs": [
      {
       "metadata": {},
       "output_type": "display_data",
       "png": "[encoded data removed]",
       "text": [
        "<matplotlib.figure.Figure at 0x3d38410>"
       ]
      }
     ],
     "prompt_number": 13
    },
    {
     "cell_type": "heading",
     "level": 1,
     "metadata": {},
     "source": [
      "Bibliograf\u00eda"
     ]
    },
    {
     "cell_type": "markdown",
     "metadata": {},
     "source": [
      "* [1] http://www.met.rdg.ac.uk/~ross/Astronomy/Planets.html\n",
      "* [2] http://www.astronomycafe.net/qadir/q47.html\n",
      "* [3] http://www.onlineconversion.com/julian_date.htm"
     ]
    },
    {
     "cell_type": "code",
     "collapsed": false,
     "input": [],
     "language": "python",
     "metadata": {},
     "outputs": []
    }
   ],
   "metadata": {}
  }
 ]
}